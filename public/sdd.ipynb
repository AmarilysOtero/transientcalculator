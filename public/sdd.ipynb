{
  "cells": [
    {
      "cell_type": "markdown",
      "metadata": {
        "id": "K0Mhch9jEOhM"
      },
      "source": [
        "<h1> Implementado Sistemas Dinámicos Discretos en Python </h1>\n"
      ]
    },
    {
      "cell_type": "markdown",
      "metadata": {
        "id": "HgQV-FOKBVxN"
      },
      "source": [
        "<h3> Librerias usadas </h3>"
      ]
    },
    {
      "cell_type": "code",
      "execution_count": null,
      "metadata": {
        "id": "CxlGTw84itRE"
      },
      "outputs": [],
      "source": [
        "import networkx as nx\n",
        "import numpy as np\n",
        "from datetime import datetime\n",
        "from time import sleep\n",
        "import matplotlib.pyplot as plt\n",
        "import seaborn as sns\n",
        "import matplotlib.animation\n",
        "from matplotlib import rc\n",
        "rc('animation', html='jshtml')\n",
        "from PIL import Image\n",
        "from numpy import asarray\n",
        "import sys"
      ]
    },
    {
      "cell_type": "code",
      "source": [
        "sys.setrecursionlimit(7000)"
      ],
      "metadata": {
        "id": "eKrTVvwOK5aF"
      },
      "execution_count": null,
      "outputs": []
    },
    {
      "cell_type": "markdown",
      "source": [
        "<h2> Código para resolver transient </h2>\n"
      ],
      "metadata": {
        "id": "rtVTYkt-plL_"
      }
    },
    {
      "cell_type": "markdown",
      "metadata": {
        "id": "-fIUGESJEYTf"
      },
      "source": [
        "<h3> Código para resolver los grafos </h3>"
      ]
    },
    {
      "cell_type": "code",
      "execution_count": null,
      "metadata": {
        "id": "9iYLydSd-q_X"
      },
      "outputs": [],
      "source": [
        "def storePath(iteration, mat):\n",
        "  mat.append(iteration)\n",
        "  return \n",
        "\n",
        "def getOldDependencies(vector, initial_vec):\n",
        "  total = 1\n",
        "  for items in vector:\n",
        "    total *= initial_vec[int(items)-1]\n",
        "  return total\n",
        "\n",
        "\n",
        "# recibe unas dependencias, vector inicial [1 y 0], un counter= 0 para las corridas, y una\n",
        "# matriz de adjacency para ver resultados finales\n",
        "def dynamicalSystem(dependencies, initial_vec, count, mat):\n",
        "  # define dependencies\n",
        "  # si todo nodo es igual a 1 o 0, terminamos\n",
        "  if initial_vec.count(0) == len(initial_vec) or initial_vec.count(1) == len(initial_vec):\n",
        "    # imprimimos el progreso hasta el momento.\n",
        "    #print(\"Step #\", count, initial_vec)\n",
        "    return count\n",
        "  else:\n",
        "    # sleep(.25)\n",
        "    # imprimimos el progreso hasta el momento.\n",
        "    #print(\"Step #\", count, initial_vec)\n",
        "\n",
        "    # copy_vec va a servir como la próxima iteración de [1 y 0]\n",
        "    copy_vec = [0 for x in range(len(initial_vec))]\n",
        "    # corremos por cada dependencia y actualizamos los valores y los copiamos\n",
        "    # a copy_vec\n",
        "    for k, v in dependencies.items():\n",
        "      total = 1\n",
        "      for items in v:\n",
        "        total *= initial_vec[int(items)-1]\n",
        "      copy_vec[int(k) - 1] = total #getOldDependencies(v, initial_vec)\n",
        "    \n",
        "    # el valor global del vector se guarda y llamamos la función original\n",
        "    # para el próximo paso de la recursión\n",
        "    mat.append(copy_vec)\n",
        "    return dynamicalSystem(dependencies, copy_vec, count+1, mat)\n"
      ]
    },
    {
      "cell_type": "markdown",
      "metadata": {
        "id": "bx8O__CyBcjq"
      },
      "source": [
        "<h3> Área para correr código y tomar tiempo </h3>"
      ]
    },
    {
      "cell_type": "code",
      "source": [
        "def generateDepen(n, m, l):\n",
        "  autogen = {}\n",
        "  for i in range(1, n+m+l-1):\n",
        "    if i not in autogen.keys():\n",
        "      autogen[str(i)] = []\n",
        "      autogen[str(i)].append(i+1)\n",
        "\n",
        "    if i == n:\n",
        "      autogen[str(i)].append(1)\n",
        "      autogen[str(i)].sort()\n",
        "\n",
        "    if i == m+n-1:\n",
        "\n",
        "      autogen[str(i)].append(n)\n",
        "      autogen[str(i)].sort()\n",
        "    \n",
        "    if i == n+m+l-2:\n",
        "      autogen[str(i)] = [n+m-1]\n",
        "      autogen[str(i)].sort()\n",
        "\n",
        "  return autogen\n",
        "\n",
        "# autogen[n+m+l-2].append(n+m-1)\n",
        "\n",
        "# d = generateDepen(2, 3, 5)\n",
        "# print(d)"
      ],
      "metadata": {
        "id": "yISYYJ1vRLNb"
      },
      "execution_count": null,
      "outputs": []
    },
    {
      "cell_type": "code",
      "source": [
        "def getTransient(a, b, c):\n",
        "  if a == 1:\n",
        "    #print(\"(\" + str(a) + \",\" + str(b) + \",\" +str(c) + \") --> \" + str(2*c + b - 2))\n",
        "    return (a, b, c), 2*c + b - 2\n",
        "  elif a == 2:\n",
        "    #print(\"(\" + str(a) + \",\" + str(b) + \",\" +str(c) + \") --> \" + str(2*c + 2*b - 3))\n",
        "    return (a, b, c), 2*c + 2*b - 3\n",
        "  else:\n",
        "    depen = generateDepen(a,b,c)\n",
        "    initial_vec = [1 for x in range(a+b+c-2)]\n",
        "    initial_vec[-1] = 0\n",
        "    # copia global del progreso\n",
        "    mat = [initial_vec]\n",
        "    # llamamos la función dinámica\n",
        "    r = dynamicalSystem(depen, initial_vec, 0, mat)\n",
        "    return (a, b, c), r\n",
        "\n",
        "    #print(\"(\" + str(a) + \",\" + str(b) + \",\" +str(c) + \") --> \" + str(r))\n",
        "\n",
        "\n",
        "tupla, tran = getTransient(2, 19, 31)\n",
        "tran"
      ],
      "metadata": {
        "colab": {
          "base_uri": "https://localhost:8080/"
        },
        "id": "HgA97b3FVpQa",
        "outputId": "067eabcd-1931-4e74-8544-3a1fddbe8f49"
      },
      "execution_count": null,
      "outputs": [
        {
          "output_type": "execute_result",
          "data": {
            "text/plain": [
              "97"
            ]
          },
          "metadata": {},
          "execution_count": 6
        }
      ]
    },
    {
      "cell_type": "code",
      "source": [
        "def isPrime(num):\n",
        "  factors = []\n",
        "  for i in range(1, num+1):\n",
        "    if num % i == 0:\n",
        "      factors.append(i)\n",
        "  if len(factors) == 2:\n",
        "    if num in factors and 1 in factors:\n",
        "      return True\n",
        "  return False"
      ],
      "metadata": {
        "id": "-4O7s-lUHuEL"
      },
      "execution_count": null,
      "outputs": []
    },
    {
      "cell_type": "code",
      "source": [
        "def nextPrime(num, bound):\n",
        "  for i in range(num, bound+1):\n",
        "    if isPrime(i):\n",
        "      return i \n",
        "  return -1"
      ],
      "metadata": {
        "id": "rbGnKLJqJ3GY"
      },
      "execution_count": null,
      "outputs": []
    },
    {
      "cell_type": "code",
      "source": [
        "def llamaTuplas(a, b, c, limit):\n",
        "  coleccion = {}\n",
        "  for nums in range(limit+100):\n",
        "\n",
        "    if c == -1:\n",
        "      return coleccion\n",
        "\n",
        "    if c != -1:\n",
        "      tupla, tran = getTransient(a, b, c)\n",
        "      if tran not in coleccion.keys():\n",
        "        coleccion[tran] = []\n",
        "        coleccion[tran].append(tupla)\n",
        "      else:\n",
        "        coleccion[tran].append(tupla)\n",
        "\n",
        "    #print(a, b, c)\n",
        "\n",
        "    if c-b < 500: \n",
        "      c = nextPrime(c+1, limit)\n",
        "\n",
        "    else:\n",
        "      b = nextPrime(b+1, limit)\n",
        "      c = nextPrime(b+1, limit)\n",
        "\n",
        "  return coleccion\n",
        "\n",
        "record = llamaTuplas(3, 23, 31, 500)\n",
        "#record2 = llamaTuplas(3, 389, 397, 200)\n",
        "#record1\n",
        "for k in sorted(record.keys()):\n",
        "  format = str(k) + \" --> \" + \",\".join(str(it) for it in record[k])\n",
        "  print(format)"
      ],
      "metadata": {
        "colab": {
          "base_uri": "https://localhost:8080/"
        },
        "id": "ZYmHAvLMHKi1",
        "outputId": "a1c4ca85-a9bc-4da2-9382-0615bc96d507"
      },
      "execution_count": null,
      "outputs": [
        {
          "output_type": "stream",
          "name": "stdout",
          "text": [
            "112 --> (3, 23, 31)\n",
            "130 --> (3, 23, 37)\n",
            "147 --> (3, 23, 41)\n",
            "148 --> (3, 23, 43)\n",
            "159 --> (3, 23, 47)\n",
            "171 --> (3, 23, 53)\n",
            "183 --> (3, 23, 59)\n",
            "187 --> (3, 23, 61)\n",
            "199 --> (3, 23, 67)\n",
            "207 --> (3, 23, 71)\n",
            "211 --> (3, 23, 73)\n",
            "223 --> (3, 23, 79)\n",
            "231 --> (3, 23, 83)\n",
            "243 --> (3, 23, 89)\n",
            "259 --> (3, 23, 97)\n",
            "267 --> (3, 23, 101)\n",
            "271 --> (3, 23, 103)\n",
            "279 --> (3, 23, 107)\n",
            "283 --> (3, 23, 109)\n",
            "291 --> (3, 23, 113)\n",
            "319 --> (3, 23, 127)\n",
            "327 --> (3, 23, 131)\n",
            "339 --> (3, 23, 137)\n",
            "343 --> (3, 23, 139)\n",
            "363 --> (3, 23, 149)\n",
            "367 --> (3, 23, 151)\n",
            "379 --> (3, 23, 157)\n",
            "391 --> (3, 23, 163)\n",
            "399 --> (3, 23, 167)\n",
            "411 --> (3, 23, 173)\n",
            "423 --> (3, 23, 179)\n",
            "427 --> (3, 23, 181)\n",
            "447 --> (3, 23, 191)\n",
            "451 --> (3, 23, 193)\n",
            "459 --> (3, 23, 197)\n",
            "463 --> (3, 23, 199)\n",
            "487 --> (3, 23, 211)\n",
            "511 --> (3, 23, 223)\n",
            "519 --> (3, 23, 227)\n",
            "523 --> (3, 23, 229)\n",
            "531 --> (3, 23, 233)\n",
            "543 --> (3, 23, 239)\n",
            "547 --> (3, 23, 241)\n",
            "567 --> (3, 23, 251)\n",
            "579 --> (3, 23, 257)\n",
            "591 --> (3, 23, 263)\n",
            "603 --> (3, 23, 269)\n",
            "607 --> (3, 23, 271)\n",
            "619 --> (3, 23, 277)\n",
            "627 --> (3, 23, 281)\n",
            "631 --> (3, 23, 283)\n",
            "651 --> (3, 23, 293)\n",
            "679 --> (3, 23, 307)\n",
            "687 --> (3, 23, 311)\n",
            "691 --> (3, 23, 313)\n",
            "699 --> (3, 23, 317)\n",
            "727 --> (3, 23, 331)\n",
            "739 --> (3, 23, 337)\n",
            "759 --> (3, 23, 347)\n",
            "763 --> (3, 23, 349)\n",
            "771 --> (3, 23, 353)\n",
            "783 --> (3, 23, 359)\n",
            "799 --> (3, 23, 367)\n",
            "811 --> (3, 23, 373)\n",
            "823 --> (3, 23, 379)\n",
            "831 --> (3, 23, 383)\n",
            "843 --> (3, 23, 389)\n",
            "859 --> (3, 23, 397)\n",
            "867 --> (3, 23, 401)\n",
            "883 --> (3, 23, 409)\n",
            "903 --> (3, 23, 419)\n",
            "907 --> (3, 23, 421)\n",
            "927 --> (3, 23, 431)\n",
            "931 --> (3, 23, 433)\n",
            "943 --> (3, 23, 439)\n",
            "951 --> (3, 23, 443)\n",
            "963 --> (3, 23, 449)\n",
            "979 --> (3, 23, 457)\n",
            "987 --> (3, 23, 461)\n",
            "991 --> (3, 23, 463)\n",
            "999 --> (3, 23, 467)\n",
            "1023 --> (3, 23, 479)\n",
            "1039 --> (3, 23, 487)\n",
            "1047 --> (3, 23, 491)\n",
            "1063 --> (3, 23, 499)\n"
          ]
        }
      ]
    },
    {
      "cell_type": "code",
      "execution_count": null,
      "metadata": {
        "id": "DAI6S5ZEJ9TF",
        "colab": {
          "base_uri": "https://localhost:8080/"
        },
        "outputId": "0cdde7be-5c59-4862-ab35-fedb108e2901"
      },
      "outputs": [
        {
          "output_type": "stream",
          "name": "stdout",
          "text": [
            "step 0 = [1, 1, 1, 1, 1, 1, 1, 1, 1, 1, 1, 1, 1, 1, 1, 1, 1, 1, 1, 1, 1, 1, 1, 1, 1, 1, 1, 1, 1, 1, 1, 1, 1, 1, 1, 0]\n",
            "step 1 = [1, 1, 1, 1, 1, 1, 1, 1, 1, 1, 1, 1, 1, 1, 1, 1, 1, 1, 1, 1, 1, 1, 1, 1, 1, 1, 1, 1, 1, 1, 1, 1, 1, 1, 0, 1]\n",
            "step 2 = [1, 1, 1, 1, 1, 1, 1, 1, 1, 1, 1, 1, 1, 1, 1, 1, 1, 1, 1, 1, 1, 1, 1, 1, 1, 1, 1, 1, 1, 1, 1, 1, 1, 0, 1, 1]\n",
            "step 3 = [1, 1, 1, 1, 1, 1, 1, 1, 1, 1, 1, 1, 1, 1, 1, 1, 1, 1, 1, 1, 1, 1, 1, 1, 1, 1, 1, 1, 1, 1, 1, 1, 0, 1, 1, 1]\n",
            "step 4 = [1, 1, 1, 1, 1, 1, 1, 1, 1, 1, 1, 1, 1, 1, 1, 1, 1, 1, 1, 1, 1, 1, 1, 1, 1, 1, 1, 1, 1, 1, 1, 0, 1, 1, 1, 1]\n",
            "step 5 = [1, 1, 1, 1, 1, 1, 1, 1, 1, 1, 1, 1, 1, 1, 1, 1, 1, 1, 1, 1, 1, 1, 1, 1, 1, 1, 1, 1, 1, 1, 0, 1, 1, 1, 1, 1]\n",
            "step 6 = [1, 1, 1, 1, 1, 1, 1, 1, 1, 1, 1, 1, 1, 1, 1, 1, 1, 1, 1, 1, 1, 1, 1, 1, 1, 1, 1, 1, 1, 0, 1, 1, 1, 1, 1, 1]\n",
            "step 7 = [1, 1, 1, 1, 1, 1, 1, 1, 1, 1, 1, 1, 1, 1, 1, 1, 1, 1, 1, 1, 1, 1, 1, 1, 1, 1, 1, 1, 0, 1, 1, 1, 1, 1, 1, 1]\n",
            "step 8 = [1, 1, 1, 1, 1, 1, 1, 1, 1, 1, 1, 1, 1, 1, 1, 1, 1, 1, 1, 1, 1, 1, 1, 1, 1, 1, 1, 0, 1, 1, 1, 1, 1, 1, 1, 1]\n",
            "step 9 = [1, 1, 1, 1, 1, 1, 1, 1, 1, 1, 1, 1, 1, 1, 1, 1, 1, 1, 1, 1, 1, 1, 1, 1, 1, 1, 0, 1, 1, 1, 1, 1, 1, 1, 1, 1]\n",
            "step 10 = [1, 1, 1, 1, 1, 1, 1, 1, 1, 1, 1, 1, 1, 1, 1, 1, 1, 1, 1, 1, 1, 1, 1, 1, 1, 0, 1, 1, 1, 1, 1, 1, 1, 1, 1, 1]\n",
            "step 11 = [1, 1, 1, 1, 1, 1, 1, 1, 1, 1, 1, 1, 1, 1, 1, 1, 1, 1, 1, 1, 1, 1, 1, 1, 0, 1, 1, 1, 1, 1, 1, 1, 1, 1, 1, 1]\n",
            "step 12 = [1, 1, 1, 1, 1, 1, 1, 1, 1, 1, 1, 1, 1, 1, 1, 1, 1, 1, 1, 1, 1, 1, 1, 0, 1, 1, 1, 1, 1, 1, 1, 1, 1, 1, 1, 1]\n",
            "step 13 = [1, 1, 1, 1, 1, 1, 1, 1, 1, 1, 1, 1, 1, 1, 1, 1, 1, 1, 1, 1, 1, 1, 0, 1, 1, 1, 1, 1, 1, 1, 1, 1, 1, 1, 1, 1]\n",
            "step 14 = [1, 1, 1, 1, 1, 1, 1, 1, 1, 1, 1, 1, 1, 1, 1, 1, 1, 1, 1, 1, 1, 0, 1, 1, 1, 1, 1, 1, 1, 1, 1, 1, 1, 1, 1, 1]\n",
            "step 15 = [1, 1, 1, 1, 1, 1, 1, 1, 1, 1, 1, 1, 1, 1, 1, 1, 1, 1, 1, 1, 0, 1, 1, 1, 1, 1, 1, 1, 1, 1, 1, 1, 1, 1, 1, 1]\n",
            "step 16 = [1, 1, 1, 1, 1, 1, 1, 1, 1, 1, 1, 1, 1, 1, 1, 1, 1, 1, 1, 0, 1, 1, 1, 1, 1, 1, 1, 1, 1, 1, 1, 1, 1, 1, 1, 1]\n",
            "step 17 = [1, 1, 1, 1, 1, 1, 1, 1, 1, 1, 1, 1, 1, 1, 1, 1, 1, 1, 0, 1, 1, 1, 1, 1, 1, 1, 1, 1, 1, 1, 1, 1, 1, 1, 1, 1]\n",
            "step 18 = [1, 1, 1, 1, 1, 1, 1, 1, 1, 1, 1, 1, 1, 1, 1, 1, 1, 0, 1, 1, 1, 1, 1, 1, 1, 1, 1, 1, 1, 1, 1, 1, 1, 1, 1, 1]\n",
            "step 19 = [1, 1, 1, 1, 1, 1, 1, 1, 1, 1, 1, 1, 1, 1, 1, 1, 0, 1, 1, 1, 1, 1, 1, 1, 1, 1, 1, 1, 1, 1, 1, 1, 1, 1, 1, 1]\n",
            "step 20 = [1, 1, 1, 1, 1, 1, 1, 1, 1, 1, 1, 1, 1, 1, 1, 0, 1, 1, 1, 1, 1, 1, 1, 1, 1, 1, 1, 1, 1, 1, 1, 1, 1, 1, 1, 1]\n",
            "step 21 = [1, 1, 1, 1, 1, 1, 1, 1, 1, 1, 1, 1, 1, 1, 0, 1, 1, 1, 1, 1, 1, 1, 1, 1, 1, 1, 1, 1, 1, 1, 1, 1, 1, 1, 1, 1]\n",
            "step 22 = [1, 1, 1, 1, 1, 1, 1, 1, 1, 1, 1, 1, 1, 0, 1, 1, 1, 1, 1, 1, 1, 1, 1, 1, 1, 1, 1, 1, 1, 1, 1, 1, 1, 1, 1, 1]\n",
            "step 23 = [1, 1, 1, 1, 1, 1, 1, 1, 1, 1, 1, 1, 0, 1, 1, 1, 1, 1, 1, 1, 1, 1, 1, 1, 1, 1, 1, 1, 1, 1, 1, 1, 1, 1, 1, 1]\n",
            "step 24 = [1, 1, 1, 1, 1, 1, 1, 1, 1, 1, 1, 0, 1, 1, 1, 1, 1, 1, 1, 1, 1, 1, 1, 1, 1, 1, 1, 1, 1, 1, 1, 1, 1, 1, 1, 1]\n",
            "step 25 = [1, 1, 1, 1, 1, 1, 1, 1, 1, 1, 0, 1, 1, 1, 1, 1, 1, 1, 1, 1, 1, 1, 1, 1, 1, 1, 1, 1, 1, 1, 1, 1, 1, 1, 1, 1]\n",
            "step 26 = [1, 1, 1, 1, 1, 1, 1, 1, 1, 0, 1, 1, 1, 1, 1, 1, 1, 1, 1, 1, 1, 1, 1, 1, 1, 1, 1, 1, 1, 1, 1, 1, 1, 1, 1, 1]\n",
            "step 27 = [1, 1, 1, 1, 1, 1, 1, 1, 0, 1, 1, 1, 1, 1, 1, 1, 1, 1, 1, 1, 1, 1, 1, 1, 1, 1, 1, 1, 1, 1, 1, 1, 1, 1, 1, 1]\n",
            "step 28 = [1, 1, 1, 1, 1, 1, 1, 0, 1, 1, 1, 1, 1, 1, 1, 1, 1, 1, 1, 1, 1, 1, 1, 1, 1, 1, 1, 1, 1, 1, 1, 1, 1, 1, 1, 1]\n",
            "step 29 = [1, 1, 1, 1, 1, 1, 0, 1, 1, 1, 1, 1, 1, 1, 1, 1, 1, 1, 1, 1, 1, 1, 1, 1, 1, 1, 1, 1, 1, 1, 1, 1, 1, 1, 1, 1]\n",
            "step 30 = [1, 1, 1, 1, 1, 0, 1, 1, 1, 1, 1, 1, 1, 1, 1, 1, 1, 1, 1, 1, 1, 1, 1, 1, 1, 1, 1, 1, 1, 1, 1, 1, 1, 1, 1, 1]\n",
            "step 31 = [1, 1, 1, 1, 0, 1, 1, 1, 1, 1, 1, 1, 1, 1, 1, 1, 1, 1, 1, 1, 1, 1, 1, 1, 1, 1, 1, 1, 1, 1, 1, 1, 1, 1, 1, 0]\n",
            "step 32 = [1, 1, 1, 0, 1, 1, 1, 1, 1, 1, 1, 1, 1, 1, 1, 1, 1, 1, 1, 1, 1, 1, 1, 1, 1, 1, 1, 1, 1, 1, 1, 1, 1, 1, 0, 1]\n",
            "step 33 = [1, 1, 0, 1, 1, 1, 1, 1, 1, 1, 1, 1, 1, 1, 1, 1, 1, 1, 1, 1, 1, 1, 1, 1, 1, 1, 1, 1, 1, 1, 1, 1, 1, 0, 1, 1]\n",
            "step 34 = [1, 0, 1, 1, 1, 1, 1, 1, 1, 1, 1, 1, 1, 1, 1, 1, 1, 1, 1, 1, 1, 1, 1, 1, 1, 1, 1, 1, 1, 1, 1, 1, 0, 1, 1, 1]\n",
            "step 35 = [0, 1, 1, 1, 1, 0, 1, 1, 1, 1, 1, 1, 1, 1, 1, 1, 1, 1, 1, 1, 1, 1, 1, 1, 1, 1, 1, 1, 1, 1, 1, 0, 1, 1, 1, 1]\n",
            "step 36 = [1, 0, 1, 1, 0, 1, 1, 1, 1, 1, 1, 1, 1, 1, 1, 1, 1, 1, 1, 1, 1, 1, 1, 1, 1, 1, 1, 1, 1, 1, 0, 1, 1, 1, 1, 0]\n",
            "step 37 = [0, 1, 1, 0, 1, 0, 1, 1, 1, 1, 1, 1, 1, 1, 1, 1, 1, 1, 1, 1, 1, 1, 1, 1, 1, 1, 1, 1, 1, 0, 1, 1, 1, 1, 0, 1]\n",
            "step 38 = [1, 0, 0, 1, 0, 1, 1, 1, 1, 1, 1, 1, 1, 1, 1, 1, 1, 1, 1, 1, 1, 1, 1, 1, 1, 1, 1, 1, 0, 1, 1, 1, 1, 0, 1, 0]\n",
            "step 39 = [0, 0, 1, 0, 1, 0, 1, 1, 1, 1, 1, 1, 1, 1, 1, 1, 1, 1, 1, 1, 1, 1, 1, 1, 1, 1, 1, 0, 1, 1, 1, 1, 0, 1, 0, 1]\n",
            "step 40 = [0, 0, 0, 1, 0, 0, 1, 1, 1, 1, 1, 1, 1, 1, 1, 1, 1, 1, 1, 1, 1, 1, 1, 1, 1, 1, 0, 1, 1, 1, 1, 0, 1, 0, 1, 0]\n",
            "step 41 = [0, 0, 1, 0, 0, 0, 1, 1, 1, 1, 1, 1, 1, 1, 1, 1, 1, 1, 1, 1, 1, 1, 1, 1, 1, 0, 1, 1, 1, 1, 0, 1, 0, 1, 0, 0]\n",
            "step 42 = [0, 0, 0, 0, 0, 0, 1, 1, 1, 1, 1, 1, 1, 1, 1, 1, 1, 1, 1, 1, 1, 1, 1, 1, 0, 1, 1, 1, 1, 0, 1, 0, 1, 0, 0, 0]\n",
            "step 43 = [0, 0, 0, 0, 0, 0, 1, 1, 1, 1, 1, 1, 1, 1, 1, 1, 1, 1, 1, 1, 1, 1, 1, 0, 1, 1, 1, 1, 0, 1, 0, 1, 0, 0, 0, 0]\n",
            "step 44 = [0, 0, 0, 0, 0, 0, 1, 1, 1, 1, 1, 1, 1, 1, 1, 1, 1, 1, 1, 1, 1, 1, 0, 1, 1, 1, 1, 0, 1, 0, 1, 0, 0, 0, 0, 0]\n",
            "step 45 = [0, 0, 0, 0, 0, 0, 1, 1, 1, 1, 1, 1, 1, 1, 1, 1, 1, 1, 1, 1, 1, 0, 1, 1, 1, 1, 0, 1, 0, 1, 0, 0, 0, 0, 0, 0]\n",
            "step 46 = [0, 0, 0, 0, 0, 0, 1, 1, 1, 1, 1, 1, 1, 1, 1, 1, 1, 1, 1, 1, 0, 1, 1, 1, 1, 0, 1, 0, 1, 0, 0, 0, 0, 0, 0, 0]\n",
            "step 47 = [0, 0, 0, 0, 0, 0, 1, 1, 1, 1, 1, 1, 1, 1, 1, 1, 1, 1, 1, 0, 1, 1, 1, 1, 0, 1, 0, 1, 0, 0, 0, 0, 0, 0, 0, 0]\n",
            "step 48 = [0, 0, 0, 0, 0, 0, 1, 1, 1, 1, 1, 1, 1, 1, 1, 1, 1, 1, 0, 1, 1, 1, 1, 0, 1, 0, 1, 0, 0, 0, 0, 0, 0, 0, 0, 0]\n",
            "step 49 = [0, 0, 0, 0, 0, 0, 1, 1, 1, 1, 1, 1, 1, 1, 1, 1, 1, 0, 1, 1, 1, 1, 0, 1, 0, 1, 0, 0, 0, 0, 0, 0, 0, 0, 0, 0]\n",
            "step 50 = [0, 0, 0, 0, 0, 0, 1, 1, 1, 1, 1, 1, 1, 1, 1, 1, 0, 1, 1, 1, 1, 0, 1, 0, 1, 0, 0, 0, 0, 0, 0, 0, 0, 0, 0, 0]\n",
            "step 51 = [0, 0, 0, 0, 0, 0, 1, 1, 1, 1, 1, 1, 1, 1, 1, 0, 1, 1, 1, 1, 0, 1, 0, 1, 0, 0, 0, 0, 0, 0, 0, 0, 0, 0, 0, 0]\n",
            "step 52 = [0, 0, 0, 0, 0, 0, 1, 1, 1, 1, 1, 1, 1, 1, 0, 1, 1, 1, 1, 0, 1, 0, 1, 0, 0, 0, 0, 0, 0, 0, 0, 0, 0, 0, 0, 0]\n",
            "step 53 = [0, 0, 0, 0, 0, 0, 1, 1, 1, 1, 1, 1, 1, 0, 1, 1, 1, 1, 0, 1, 0, 1, 0, 0, 0, 0, 0, 0, 0, 0, 0, 0, 0, 0, 0, 0]\n",
            "step 54 = [0, 0, 0, 0, 0, 0, 1, 1, 1, 1, 1, 1, 0, 1, 1, 1, 1, 0, 1, 0, 1, 0, 0, 0, 0, 0, 0, 0, 0, 0, 0, 0, 0, 0, 0, 0]\n",
            "step 55 = [0, 0, 0, 0, 0, 0, 1, 1, 1, 1, 1, 0, 1, 1, 1, 1, 0, 1, 0, 1, 0, 0, 0, 0, 0, 0, 0, 0, 0, 0, 0, 0, 0, 0, 0, 0]\n",
            "step 56 = [0, 0, 0, 0, 0, 0, 1, 1, 1, 1, 0, 1, 1, 1, 1, 0, 1, 0, 1, 0, 0, 0, 0, 0, 0, 0, 0, 0, 0, 0, 0, 0, 0, 0, 0, 0]\n",
            "step 57 = [0, 0, 0, 0, 0, 0, 1, 1, 1, 0, 1, 1, 1, 1, 0, 1, 0, 1, 0, 0, 0, 0, 0, 0, 0, 0, 0, 0, 0, 0, 0, 0, 0, 0, 0, 0]\n",
            "step 58 = [0, 0, 0, 0, 0, 0, 1, 1, 0, 1, 1, 1, 1, 0, 1, 0, 1, 0, 0, 0, 0, 0, 0, 0, 0, 0, 0, 0, 0, 0, 0, 0, 0, 0, 0, 0]\n",
            "step 59 = [0, 0, 0, 0, 0, 0, 1, 0, 1, 1, 1, 1, 0, 1, 0, 1, 0, 0, 0, 0, 0, 0, 0, 0, 0, 0, 0, 0, 0, 0, 0, 0, 0, 0, 0, 0]\n",
            "step 60 = [0, 0, 0, 0, 0, 0, 0, 1, 1, 1, 1, 0, 1, 0, 1, 0, 0, 0, 0, 0, 0, 0, 0, 0, 0, 0, 0, 0, 0, 0, 0, 0, 0, 0, 0, 0]\n",
            "step 61 = [0, 0, 0, 0, 0, 0, 1, 1, 1, 1, 0, 1, 0, 1, 0, 0, 0, 0, 0, 0, 0, 0, 0, 0, 0, 0, 0, 0, 0, 0, 0, 0, 0, 0, 0, 0]\n",
            "step 62 = [0, 0, 0, 0, 0, 0, 1, 1, 1, 0, 1, 0, 1, 0, 0, 0, 0, 0, 0, 0, 0, 0, 0, 0, 0, 0, 0, 0, 0, 0, 0, 0, 0, 0, 0, 0]\n",
            "step 63 = [0, 0, 0, 0, 0, 0, 1, 1, 0, 1, 0, 1, 0, 0, 0, 0, 0, 0, 0, 0, 0, 0, 0, 0, 0, 0, 0, 0, 0, 0, 0, 0, 0, 0, 0, 0]\n",
            "step 64 = [0, 0, 0, 0, 0, 0, 1, 0, 1, 0, 1, 0, 0, 0, 0, 0, 0, 0, 0, 0, 0, 0, 0, 0, 0, 0, 0, 0, 0, 0, 0, 0, 0, 0, 0, 0]\n",
            "step 65 = [0, 0, 0, 0, 0, 0, 0, 1, 0, 1, 0, 0, 0, 0, 0, 0, 0, 0, 0, 0, 0, 0, 0, 0, 0, 0, 0, 0, 0, 0, 0, 0, 0, 0, 0, 0]\n",
            "step 66 = [0, 0, 0, 0, 0, 0, 1, 0, 1, 0, 0, 0, 0, 0, 0, 0, 0, 0, 0, 0, 0, 0, 0, 0, 0, 0, 0, 0, 0, 0, 0, 0, 0, 0, 0, 0]\n",
            "step 67 = [0, 0, 0, 0, 0, 0, 0, 1, 0, 0, 0, 0, 0, 0, 0, 0, 0, 0, 0, 0, 0, 0, 0, 0, 0, 0, 0, 0, 0, 0, 0, 0, 0, 0, 0, 0]\n",
            "step 68 = [0, 0, 0, 0, 0, 0, 1, 0, 0, 0, 0, 0, 0, 0, 0, 0, 0, 0, 0, 0, 0, 0, 0, 0, 0, 0, 0, 0, 0, 0, 0, 0, 0, 0, 0, 0]\n",
            "step 69 = [0, 0, 0, 0, 0, 0, 0, 0, 0, 0, 0, 0, 0, 0, 0, 0, 0, 0, 0, 0, 0, 0, 0, 0, 0, 0, 0, 0, 0, 0, 0, 0, 0, 0, 0, 0]\n",
            "Transient -> 69\n",
            "----------------------------------\n",
            "Duration: 0:00:00.011589\n"
          ]
        }
      ],
      "source": [
        "# ejemplo 1:\n",
        "\n",
        "# dependencias generadas por Prof Colón\n",
        "# depen = {1: [2], 2: [1, 3], 3: [4], 4: [2, 5], 5:[6], 6:[7], 7:[8], 8:[4]}\n",
        "n = 2\n",
        "m = 5\n",
        "l = 31\n",
        "depen = generateDepen(n,m,l)\n",
        "\n",
        "# tomamos tiempo de ejecución\n",
        "start_time = datetime.now()\n",
        "\n",
        "# vector inicial con sus valores\n",
        "initial_vec = [1 for x in range(n+m+l-2)]\n",
        "initial_vec[-1] = 0\n",
        "# copia global del progreso\n",
        "mat = [initial_vec]\n",
        "# llamamos la función dinámica\n",
        "r = dynamicalSystem(depen, initial_vec, 0, mat)\n",
        "\n",
        "mat.append([0 for x in range(len(mat[0]))])\n",
        "\n",
        "# terminamos contando el tiempo\n",
        "for i in range(r+1):\n",
        "  print(\"step\", i, \"=\", mat[i])\n",
        "end_time = datetime.now()\n",
        "\n",
        "print(\"Transient ->\", r)\n",
        "\n",
        "\n",
        "# imprimimos su tiempo de ejecución\n",
        "print(\"----------------------------------\")\n",
        "print('Duration: {}'.format(end_time - start_time))\n"
      ]
    },
    {
      "cell_type": "markdown",
      "metadata": {
        "id": "3xClsDmdEiiX"
      },
      "source": [
        "<h3> Extra ejercicios </h3>\n",
        "\n",
        "En esta sección sería añadir ejercicios de dependencias, y las matrices/vectores iniciales como un banco de problemas. Si añaden uno, a mantener el formato initial_vec# y depen# (# siendo instancia). Luego debajo del ejercicio, hagan su corrida para verificar que están bien hechos."
      ]
    },
    {
      "cell_type": "markdown",
      "metadata": {
        "id": "vi9VEqBhEJMN"
      },
      "source": [
        "<h3> Parte de animación de grafo </h3>"
      ]
    },
    {
      "cell_type": "code",
      "execution_count": null,
      "metadata": {
        "id": "nreiX6C_4oOd",
        "colab": {
          "base_uri": "https://localhost:8080/",
          "height": 1000
        },
        "outputId": "d9a48cba-e8b4-4e2f-c6dc-8cc1d5e80bfe"
      },
      "outputs": [],
      "source": [
        "# Esta porción de código es WIP\n",
        "\n",
        "# creamos el subcampo de visualización\n",
        "fig, ax = plt.subplots()\n",
        "\n",
        "# animate recibe unas dependencias funcionales y la matriz global de progreso\n",
        "# para crear las imágenes y luego visualizarlas -> FALTA ANIMACIÓN\n",
        "def animate(depen, mat):\n",
        "\n",
        "  # guardamos imágenes\n",
        "  image_storage = []\n",
        "\n",
        "  # creamos el grafo vacío\n",
        "  G = nx.DiGraph(directed=True)\n",
        "\n",
        "  # para cada dependencia, buscamos los pares y los insertamos al grafo\n",
        "  for k, v in depen.items():\n",
        "    for items in v:\n",
        "      G.add_edges_from([(str(k), str(items))])\n",
        "\n",
        "  # le damos un forma al grafo para que se vea mejor\n",
        "  fix_pos = nx.spring_layout(G, seed=100)\n",
        "\n",
        " # para cada instancia de la matriz global de valores,\n",
        " # usamos sus valores de 0 y 1 para colorear los nodos rojos o negros\n",
        " # tratar de mejorar como almacenar los valores y también aplicar métodos de mapping\n",
        "  for instances in mat:\n",
        "    colors = []\n",
        "    for nodes in G.nodes():\n",
        "      if instances[int(nodes)-1] == 0:\n",
        "        colors.append(\"Red\")\n",
        "      else:\n",
        "        colors.append(\"Black\")\n",
        "\n",
        "    op = {\n",
        "        'node_color': colors,\n",
        "        'font_color':\"whitesmoke\",\n",
        "        'node_size': 200,\n",
        "        'width': 3,\n",
        "        'arrowstyle': '-|>',\n",
        "        'arrowsize': 12,\n",
        "    }\n",
        "    # dibujamos otra instancia del grafo para ilustar el progreso que se tiene.\n",
        "    r = nx.draw_networkx(G, pos = fix_pos, arrows=True, **op)\n",
        "\n",
        "    fig.canvas.draw()\n",
        "    nx.draw_networkx(G, pos = fix_pos, arrows=True, **op)\n",
        "    plt.title(instances)\n",
        "    plt.show()\n",
        "    # fig.canvas.flush_events()\n",
        " \n",
        "    #sleep(.5)\n",
        "\n",
        "ani = matplotlib.animation.FuncAnimation(fig, animate(depen, mat), frames=len(mat), interval=1000, repeat=True)\n",
        "#ani"
      ]
    }
  ],
  "metadata": {
    "colab": {
      "provenance": []
    },
    "kernelspec": {
      "display_name": "Python 3",
      "name": "python3"
    },
    "language_info": {
      "name": "python"
    }
  },
  "nbformat": 4,
  "nbformat_minor": 0
}